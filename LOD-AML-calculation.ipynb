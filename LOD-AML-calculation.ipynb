{
 "cells": [
  {
   "cell_type": "code",
   "execution_count": 13,
   "id": "b7c5ad8f-fbb5-41a9-a35e-000660b1e85c",
   "metadata": {},
   "outputs": [],
   "source": [
    "import math as mth\n",
    "from scipy.special import stdtrit\n",
    "\n",
    "#parameters from curve \"D\" \n",
    "#slope\n",
    "b = 3.551572135\n",
    "#intercept\n",
    "a = 0.030652587\n",
    "#parameter swyx\n",
    "swyx = 0.1321573\n",
    "# x mean weighted\n",
    "xw = 0.033774979\n",
    "# sum of weights\n",
    "sumw = 6780.213621\n",
    "#parameter sxxw\n",
    "sxxw = 13.26547662\n",
    "# t statistic \n",
    "# 99% confidence (for false positive error rates at Lc and false negative error rates at Ld of 1%) \n",
    "alpha = 0.01\n",
    "# degrees of freedom = n-p-2\n",
    "# n calibrators\n",
    "n = 21\n",
    "# p parameters for estimating s in the weight (in this case, s = x, p = 0)\n",
    "p = 0\n",
    "# t 1 sided \n",
    "t1 = stdtrit(n-p-2, (1 - alpha))"
   ]
  },
  {
   "cell_type": "code",
   "execution_count": 14,
   "id": "8c6c00e8-1ec5-4af4-9eea-44071f1e3c46",
   "metadata": {},
   "outputs": [],
   "source": [
    "#detection limit using prediction intervals. \n",
    "\n",
    "def iterate_detection_limit(a,b,t,swyx,wlc,xw,sxxw,wld,sumw,ld):\n",
    "    print (\"Seed value for wlc: \" + str(wlc))\n",
    "    print (\"Seed value for ld: \" + str(ld))\n",
    "    print (\"Seed value for wld: \" + str(wld)) \n",
    "    LD = ld\n",
    "    n = 0\n",
    "    while n <20:\n",
    "        #estimates YC, LC, and LD\n",
    "        YC = a + (t1*swyx)*mth.sqrt(((1/wlc)+(1/sumw)+((xw**2)/sxxw)))\n",
    "        LC = (YC-a)/b\n",
    "        LD = LC + (t1*swyx/b)*mth.sqrt(((1/wld)+(1/sumw)+((ld-xw)**2)/sxxw))\n",
    "        #recalculates values for wlc, wld and ld\n",
    "        wlc = 1/(LC**2)\n",
    "        wld = (1/LD**2)\n",
    "        ld = LD\n",
    "        print (\"After iteration round \" + str(n+1) + \", wlc = \" + str(wlc) + \", LD = \" + str(LD) + \", wld = \" + str(wld), \", LC = \" + str(LC))\n",
    "        n = n+1\n",
    "    return LD,LC,wlc"
   ]
  },
  {
   "cell_type": "code",
   "execution_count": 16,
   "id": "94634df5-b9b5-446b-a59c-f88f05b1f7a1",
   "metadata": {},
   "outputs": [
    {
     "name": "stdout",
     "output_type": "stream",
     "text": [
      "Seed value for wlc: 1000000.0\n",
      "Seed value for ld: 0.01\n",
      "Seed value for wld: 10000.0\n",
      "After iteration round 1, wlc = 477594.27948235505, LD = 0.0030564977043071487, wld = 107041.41762579397 , LC = 0.0014470063663148212\n",
      "After iteration round 2, wlc = 475376.70843418356, LD = 0.002877131323638142, wld = 120803.80941066229 , LC = 0.0014503774884850316\n",
      "After iteration round 3, wlc = 475356.9991868581, LD = 0.0028764378257655782, wld = 120862.067081486 , LC = 0.0014504075559421052\n",
      "After iteration round 4, wlc = 475356.8231986408, LD = 0.002876435716400239, wld = 120862.24434416364 , LC = 0.0014504078244294857\n",
      "After iteration round 5, wlc = 475356.82162713795, LD = 0.0028764357115701033, wld = 120862.24475006953 , LC = 0.001450407826826969\n",
      "After iteration round 6, wlc = 475356.821613106, LD = 0.0028764357115749605, wld = 120862.24474966133 , LC = 0.0014504078268483761\n",
      "After iteration round 7, wlc = 475356.82161298045, LD = 0.0028764357115751687, wld = 120862.24474964384 , LC = 0.0014504078268485676\n",
      "After iteration round 8, wlc = 475356.8216129792, LD = 0.0028764357115751713, wld = 120862.2447496436 , LC = 0.0014504078268485696\n",
      "After iteration round 9, wlc = 475356.8216129792, LD = 0.0028764357115751713, wld = 120862.2447496436 , LC = 0.0014504078268485696\n",
      "After iteration round 10, wlc = 475356.8216129792, LD = 0.0028764357115751713, wld = 120862.2447496436 , LC = 0.0014504078268485696\n",
      "After iteration round 11, wlc = 475356.8216129792, LD = 0.0028764357115751713, wld = 120862.2447496436 , LC = 0.0014504078268485696\n",
      "After iteration round 12, wlc = 475356.8216129792, LD = 0.0028764357115751713, wld = 120862.2447496436 , LC = 0.0014504078268485696\n",
      "After iteration round 13, wlc = 475356.8216129792, LD = 0.0028764357115751713, wld = 120862.2447496436 , LC = 0.0014504078268485696\n",
      "After iteration round 14, wlc = 475356.8216129792, LD = 0.0028764357115751713, wld = 120862.2447496436 , LC = 0.0014504078268485696\n",
      "After iteration round 15, wlc = 475356.8216129792, LD = 0.0028764357115751713, wld = 120862.2447496436 , LC = 0.0014504078268485696\n",
      "After iteration round 16, wlc = 475356.8216129792, LD = 0.0028764357115751713, wld = 120862.2447496436 , LC = 0.0014504078268485696\n",
      "After iteration round 17, wlc = 475356.8216129792, LD = 0.0028764357115751713, wld = 120862.2447496436 , LC = 0.0014504078268485696\n",
      "After iteration round 18, wlc = 475356.8216129792, LD = 0.0028764357115751713, wld = 120862.2447496436 , LC = 0.0014504078268485696\n",
      "After iteration round 19, wlc = 475356.8216129792, LD = 0.0028764357115751713, wld = 120862.2447496436 , LC = 0.0014504078268485696\n",
      "After iteration round 20, wlc = 475356.8216129792, LD = 0.0028764357115751713, wld = 120862.2447496436 , LC = 0.0014504078268485696\n"
     ]
    }
   ],
   "source": [
    "#seed values for the weight of the critical level (wlc), the detection limit (ld) and the weight of the detection limit (wld).\n",
    "lcest = 0.001\n",
    "wlc = 1/(lcest**2)\n",
    "ld = 0.01\n",
    "wld = 1/(ld**2)\n",
    "\n",
    "LD,LC,wlc = iterate_detection_limit(a,b,t1,swyx,wlc,xw,sxxw,wld,sumw,ld)"
   ]
  },
  {
   "cell_type": "code",
   "execution_count": 19,
   "id": "cad2077f-d91a-4e2f-b80e-533c7664339c",
   "metadata": {},
   "outputs": [
    {
     "name": "stdout",
     "output_type": "stream",
     "text": [
      "The value for LC is : 0.0014504078268485696, The value for LD is : 0.0028764357115751713\n"
     ]
    }
   ],
   "source": [
    "#values for LD, LC\n",
    "print(f\"The value for LC is : {LC}, The value for LD is : {LD}\")"
   ]
  },
  {
   "cell_type": "code",
   "execution_count": 20,
   "id": "509e1ebd-1973-455b-9960-896661ebe95e",
   "metadata": {},
   "outputs": [],
   "source": [
    "#AML calculation.\n",
    "\n",
    "#variance at the LC level is set as equal to the LC.\n",
    "slc = LC\n",
    "#the determination limit (YQ) in response units is\n",
    "YQ = (10*slc) + a \n",
    "#the concentration at the determination limit LQ is\n",
    "LQ = (YQ-a)/b\n",
    "#with its corresponding weight\n",
    "wlq = 1/(LQ**2)\n",
    "#therefore\n",
    "AML = LQ + (t1*swyx/b)*mth.sqrt(((1/wlq)+(1/sumw)+((LQ-xw)**2)/sxxw))"
   ]
  },
  {
   "cell_type": "code",
   "execution_count": 22,
   "id": "3ccce1bc-3b68-4944-8d30-e01d842c9195",
   "metadata": {},
   "outputs": [
    {
     "name": "stdout",
     "output_type": "stream",
     "text": [
      "The value for AML is : 0.0055188922810054854\n"
     ]
    }
   ],
   "source": [
    "print(f\"The value for AML is : {AML}\")"
   ]
  },
  {
   "cell_type": "code",
   "execution_count": null,
   "id": "cd5b7fa5-2832-404a-a5b3-3cfd23283a46",
   "metadata": {},
   "outputs": [],
   "source": []
  }
 ],
 "metadata": {
  "kernelspec": {
   "display_name": "Python 3 (ipykernel)",
   "language": "python",
   "name": "python3"
  },
  "language_info": {
   "codemirror_mode": {
    "name": "ipython",
    "version": 3
   },
   "file_extension": ".py",
   "mimetype": "text/x-python",
   "name": "python",
   "nbconvert_exporter": "python",
   "pygments_lexer": "ipython3",
   "version": "3.9.5"
  }
 },
 "nbformat": 4,
 "nbformat_minor": 5
}
